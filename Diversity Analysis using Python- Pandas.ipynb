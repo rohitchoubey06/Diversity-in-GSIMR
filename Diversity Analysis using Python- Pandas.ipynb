{
 "cells": [
  {
   "cell_type": "markdown",
   "id": "2db570b3",
   "metadata": {},
   "source": [
    "# Importing Pandas library"
   ]
  },
  {
   "cell_type": "code",
   "execution_count": 1,
   "id": "fa022a0a",
   "metadata": {},
   "outputs": [],
   "source": [
    "import pandas as pd"
   ]
  },
  {
   "cell_type": "markdown",
   "id": "d9f7f3c9",
   "metadata": {},
   "source": [
    "# Assigning the data set in the handle diversity"
   ]
  },
  {
   "cell_type": "code",
   "execution_count": 2,
   "id": "727e94c8",
   "metadata": {},
   "outputs": [],
   "source": [
    "diversity = pd.read_csv('Diversity in GSIMR.csv')"
   ]
  },
  {
   "cell_type": "markdown",
   "id": "4dd459eb",
   "metadata": {},
   "source": [
    "# Opening/Reading the data set in Python"
   ]
  },
  {
   "cell_type": "code",
   "execution_count": 3,
   "id": "95211fd6",
   "metadata": {},
   "outputs": [
    {
     "data": {
      "text/html": [
       "<div>\n",
       "<style scoped>\n",
       "    .dataframe tbody tr th:only-of-type {\n",
       "        vertical-align: middle;\n",
       "    }\n",
       "\n",
       "    .dataframe tbody tr th {\n",
       "        vertical-align: top;\n",
       "    }\n",
       "\n",
       "    .dataframe thead th {\n",
       "        text-align: right;\n",
       "    }\n",
       "</style>\n",
       "<table border=\"1\" class=\"dataframe\">\n",
       "  <thead>\n",
       "    <tr style=\"text-align: right;\">\n",
       "      <th></th>\n",
       "      <th>Timestamp</th>\n",
       "      <th>Name:</th>\n",
       "      <th>Age group:</th>\n",
       "      <th>Gender:</th>\n",
       "      <th>Religion:</th>\n",
       "      <th>Caste:</th>\n",
       "      <th>Languages that you often speak and have knowledge of (can be more than 2):</th>\n",
       "      <th>What is your stream / field of interest</th>\n",
       "    </tr>\n",
       "  </thead>\n",
       "  <tbody>\n",
       "    <tr>\n",
       "      <th>0</th>\n",
       "      <td>5/22/2021 19:25:50</td>\n",
       "      <td>Aakanksha pandey</td>\n",
       "      <td>21-23</td>\n",
       "      <td>Female</td>\n",
       "      <td>Hinduism</td>\n",
       "      <td>General</td>\n",
       "      <td>Hindi, English</td>\n",
       "      <td>Marketing, IT</td>\n",
       "    </tr>\n",
       "    <tr>\n",
       "      <th>1</th>\n",
       "      <td>5/22/2021 19:49:02</td>\n",
       "      <td>Aashish Devkota</td>\n",
       "      <td>21-23</td>\n",
       "      <td>Male</td>\n",
       "      <td>Hinduism</td>\n",
       "      <td>General</td>\n",
       "      <td>Hindi, English</td>\n",
       "      <td>Finance, Marketing</td>\n",
       "    </tr>\n",
       "    <tr>\n",
       "      <th>2</th>\n",
       "      <td>5/22/2021 19:53:25</td>\n",
       "      <td>Abhay mehta</td>\n",
       "      <td>19-21</td>\n",
       "      <td>Male</td>\n",
       "      <td>Hinduism</td>\n",
       "      <td>General</td>\n",
       "      <td>Hindi, English</td>\n",
       "      <td>Finance, Marketing</td>\n",
       "    </tr>\n",
       "    <tr>\n",
       "      <th>3</th>\n",
       "      <td>5/22/2021 13:27:25</td>\n",
       "      <td>Abhishek jain</td>\n",
       "      <td>21-23</td>\n",
       "      <td>Male</td>\n",
       "      <td>Jainism</td>\n",
       "      <td>General</td>\n",
       "      <td>Hindi, English</td>\n",
       "      <td>Marketing, Business Analytics</td>\n",
       "    </tr>\n",
       "    <tr>\n",
       "      <th>4</th>\n",
       "      <td>5/23/2021 14:29:43</td>\n",
       "      <td>Abhishek Swamy</td>\n",
       "      <td>21-23</td>\n",
       "      <td>Male</td>\n",
       "      <td>Hinduism</td>\n",
       "      <td>General</td>\n",
       "      <td>Hindi, English, Tamil</td>\n",
       "      <td>HR, Business Analytics, IT</td>\n",
       "    </tr>\n",
       "    <tr>\n",
       "      <th>...</th>\n",
       "      <td>...</td>\n",
       "      <td>...</td>\n",
       "      <td>...</td>\n",
       "      <td>...</td>\n",
       "      <td>...</td>\n",
       "      <td>...</td>\n",
       "      <td>...</td>\n",
       "      <td>...</td>\n",
       "    </tr>\n",
       "    <tr>\n",
       "      <th>94</th>\n",
       "      <td>5/22/2021 14:06:37</td>\n",
       "      <td>Urvashi Shrivastava</td>\n",
       "      <td>23-25</td>\n",
       "      <td>Female</td>\n",
       "      <td>Hinduism</td>\n",
       "      <td>General</td>\n",
       "      <td>Hindi, English</td>\n",
       "      <td>Marketing, HR</td>\n",
       "    </tr>\n",
       "    <tr>\n",
       "      <th>95</th>\n",
       "      <td>5/22/2021 20:34:55</td>\n",
       "      <td>Vaishnavi Tantak</td>\n",
       "      <td>21-23</td>\n",
       "      <td>Female</td>\n",
       "      <td>Hinduism</td>\n",
       "      <td>OBC</td>\n",
       "      <td>Hindi, English, Marathi</td>\n",
       "      <td>Marketing, HR</td>\n",
       "    </tr>\n",
       "    <tr>\n",
       "      <th>96</th>\n",
       "      <td>5/22/2021 19:19:31</td>\n",
       "      <td>Yash Awasthi</td>\n",
       "      <td>23-25</td>\n",
       "      <td>Male</td>\n",
       "      <td>Hinduism</td>\n",
       "      <td>General</td>\n",
       "      <td>Hindi, English</td>\n",
       "      <td>Marketing, Business Analytics</td>\n",
       "    </tr>\n",
       "    <tr>\n",
       "      <th>97</th>\n",
       "      <td>5/22/2021 22:47:36</td>\n",
       "      <td>Yashika Jain</td>\n",
       "      <td>19-21</td>\n",
       "      <td>Female</td>\n",
       "      <td>Hinduism</td>\n",
       "      <td>General</td>\n",
       "      <td>Hindi, English</td>\n",
       "      <td>Marketing, HR</td>\n",
       "    </tr>\n",
       "    <tr>\n",
       "      <th>98</th>\n",
       "      <td>5/22/2021 20:16:34</td>\n",
       "      <td>Yogita Patil</td>\n",
       "      <td>Above 25</td>\n",
       "      <td>Female</td>\n",
       "      <td>Hinduism</td>\n",
       "      <td>OBC</td>\n",
       "      <td>Hindi, English, Marathi</td>\n",
       "      <td>Finance, Marketing</td>\n",
       "    </tr>\n",
       "  </tbody>\n",
       "</table>\n",
       "<p>99 rows × 8 columns</p>\n",
       "</div>"
      ],
      "text/plain": [
       "             Timestamp                Name: Age group: Gender: Religion:  \\\n",
       "0   5/22/2021 19:25:50    Aakanksha pandey       21-23  Female  Hinduism   \n",
       "1   5/22/2021 19:49:02     Aashish Devkota       21-23    Male  Hinduism   \n",
       "2   5/22/2021 19:53:25          Abhay mehta      19-21    Male  Hinduism   \n",
       "3   5/22/2021 13:27:25        Abhishek jain      21-23    Male   Jainism   \n",
       "4   5/23/2021 14:29:43       Abhishek Swamy      21-23    Male  Hinduism   \n",
       "..                 ...                  ...        ...     ...       ...   \n",
       "94  5/22/2021 14:06:37  Urvashi Shrivastava      23-25  Female  Hinduism   \n",
       "95  5/22/2021 20:34:55    Vaishnavi Tantak       21-23  Female  Hinduism   \n",
       "96  5/22/2021 19:19:31         Yash Awasthi      23-25    Male  Hinduism   \n",
       "97  5/22/2021 22:47:36         Yashika Jain      19-21  Female  Hinduism   \n",
       "98  5/22/2021 20:16:34         Yogita Patil   Above 25  Female  Hinduism   \n",
       "\n",
       "     Caste:  \\\n",
       "0   General   \n",
       "1   General   \n",
       "2   General   \n",
       "3   General   \n",
       "4   General   \n",
       "..      ...   \n",
       "94  General   \n",
       "95      OBC   \n",
       "96  General   \n",
       "97  General   \n",
       "98      OBC   \n",
       "\n",
       "   Languages that you often speak and have knowledge of (can be more than 2):  \\\n",
       "0                                      Hindi, English                           \n",
       "1                                      Hindi, English                           \n",
       "2                                      Hindi, English                           \n",
       "3                                      Hindi, English                           \n",
       "4                               Hindi, English, Tamil                           \n",
       "..                                                ...                           \n",
       "94                                     Hindi, English                           \n",
       "95                            Hindi, English, Marathi                           \n",
       "96                                     Hindi, English                           \n",
       "97                                     Hindi, English                           \n",
       "98                            Hindi, English, Marathi                           \n",
       "\n",
       "   What is your stream / field of interest  \n",
       "0                            Marketing, IT  \n",
       "1                       Finance, Marketing  \n",
       "2                       Finance, Marketing  \n",
       "3            Marketing, Business Analytics  \n",
       "4               HR, Business Analytics, IT  \n",
       "..                                     ...  \n",
       "94                           Marketing, HR  \n",
       "95                           Marketing, HR  \n",
       "96           Marketing, Business Analytics  \n",
       "97                           Marketing, HR  \n",
       "98                      Finance, Marketing  \n",
       "\n",
       "[99 rows x 8 columns]"
      ]
     },
     "execution_count": 3,
     "metadata": {},
     "output_type": "execute_result"
    }
   ],
   "source": [
    "diversity"
   ]
  },
  {
   "cell_type": "code",
   "execution_count": 4,
   "id": "ff5b553e",
   "metadata": {},
   "outputs": [
    {
     "data": {
      "text/plain": [
       "0     Female\n",
       "1       Male\n",
       "2       Male\n",
       "3       Male\n",
       "4       Male\n",
       "       ...  \n",
       "94    Female\n",
       "95    Female\n",
       "96      Male\n",
       "97    Female\n",
       "98    Female\n",
       "Name: Gender:, Length: 99, dtype: object"
      ]
     },
     "execution_count": 4,
     "metadata": {},
     "output_type": "execute_result"
    }
   ],
   "source": [
    "diversity['Gender:']"
   ]
  },
  {
   "cell_type": "markdown",
   "id": "6a235f9d",
   "metadata": {},
   "source": [
    "# Number of Students following Hinduism."
   ]
  },
  {
   "cell_type": "code",
   "execution_count": 8,
   "id": "eb0839df",
   "metadata": {},
   "outputs": [
    {
     "data": {
      "text/plain": [
       "91"
      ]
     },
     "execution_count": 8,
     "metadata": {},
     "output_type": "execute_result"
    }
   ],
   "source": [
    "tot = 0\n",
    "for i in diversity['Religion:']:\n",
    "    if i == 'Hinduism':\n",
    "        tot = tot + 1\n",
    "tot"
   ]
  },
  {
   "cell_type": "markdown",
   "id": "0d8f7367",
   "metadata": {},
   "source": [
    "# Now let's see how many students belong to the General Category."
   ]
  },
  {
   "cell_type": "code",
   "execution_count": 11,
   "id": "ca74f429",
   "metadata": {},
   "outputs": [
    {
     "data": {
      "text/plain": [
       "63"
      ]
     },
     "execution_count": 11,
     "metadata": {},
     "output_type": "execute_result"
    }
   ],
   "source": [
    "d = diversity['Caste:']\n",
    "t = 0\n",
    "for i in d:\n",
    "    if i == 'General':\n",
    "        t = t + 1\n",
    "t"
   ]
  },
  {
   "cell_type": "markdown",
   "id": "7337ddc4",
   "metadata": {},
   "source": [
    "# Let's find out that how many students in the college are of age above 25."
   ]
  },
  {
   "cell_type": "code",
   "execution_count": 16,
   "id": "1e18d267",
   "metadata": {},
   "outputs": [
    {
     "data": {
      "text/plain": [
       "7"
      ]
     },
     "execution_count": 16,
     "metadata": {},
     "output_type": "execute_result"
    }
   ],
   "source": [
    "d = diversity['Age group:']\n",
    "t = 0\n",
    "for line in d:\n",
    "    if line == 'Above 25':\n",
    "        t = t + 1\n",
    "t"
   ]
  },
  {
   "cell_type": "markdown",
   "id": "2e68f871",
   "metadata": {},
   "source": [
    "# Students belonging to age group 19-21."
   ]
  },
  {
   "cell_type": "code",
   "execution_count": 17,
   "id": "e133713f",
   "metadata": {},
   "outputs": [
    {
     "data": {
      "text/plain": [
       "15"
      ]
     },
     "execution_count": 17,
     "metadata": {},
     "output_type": "execute_result"
    }
   ],
   "source": [
    "d = diversity['Age group:']\n",
    "t = 0\n",
    "for line in d:\n",
    "    if line == '19-21':\n",
    "        t = t + 1\n",
    "t"
   ]
  },
  {
   "cell_type": "markdown",
   "id": "6af82b7b",
   "metadata": {},
   "source": [
    "# Students belonging to age group 21-23."
   ]
  },
  {
   "cell_type": "code",
   "execution_count": 18,
   "id": "7b3d3123",
   "metadata": {},
   "outputs": [
    {
     "data": {
      "text/plain": [
       "54"
      ]
     },
     "execution_count": 18,
     "metadata": {},
     "output_type": "execute_result"
    }
   ],
   "source": [
    "d = diversity['Age group:']\n",
    "t = 0\n",
    "for line in d:\n",
    "    if line == '21-23':\n",
    "        t = t + 1\n",
    "t\n"
   ]
  },
  {
   "cell_type": "markdown",
   "id": "d3716664",
   "metadata": {},
   "source": [
    "# Students belonging to age group 23-25."
   ]
  },
  {
   "cell_type": "code",
   "execution_count": 19,
   "id": "a99a734c",
   "metadata": {},
   "outputs": [
    {
     "data": {
      "text/plain": [
       "23"
      ]
     },
     "execution_count": 19,
     "metadata": {},
     "output_type": "execute_result"
    }
   ],
   "source": [
    "d = diversity['Age group:']\n",
    "t = 0\n",
    "for line in d:\n",
    "    if line == '23-25':\n",
    "        t = t + 1\n",
    "t"
   ]
  },
  {
   "cell_type": "markdown",
   "id": "1f40ce02",
   "metadata": {},
   "source": [
    "# Students belonging to OBC Category"
   ]
  },
  {
   "cell_type": "code",
   "execution_count": 22,
   "id": "09e75839",
   "metadata": {},
   "outputs": [
    {
     "name": "stdout",
     "output_type": "stream",
     "text": [
      "28\n"
     ]
    }
   ],
   "source": [
    "obc = diversity['Caste:']\n",
    "total = 0\n",
    "for line in obc:\n",
    "    if line == 'OBC':\n",
    "        total = total + 1\n",
    "print(total)"
   ]
  },
  {
   "cell_type": "markdown",
   "id": "32c00dd9",
   "metadata": {},
   "source": [
    "# Using the head function"
   ]
  },
  {
   "cell_type": "code",
   "execution_count": 27,
   "id": "507c52db",
   "metadata": {},
   "outputs": [
    {
     "data": {
      "text/html": [
       "<div>\n",
       "<style scoped>\n",
       "    .dataframe tbody tr th:only-of-type {\n",
       "        vertical-align: middle;\n",
       "    }\n",
       "\n",
       "    .dataframe tbody tr th {\n",
       "        vertical-align: top;\n",
       "    }\n",
       "\n",
       "    .dataframe thead th {\n",
       "        text-align: right;\n",
       "    }\n",
       "</style>\n",
       "<table border=\"1\" class=\"dataframe\">\n",
       "  <thead>\n",
       "    <tr style=\"text-align: right;\">\n",
       "      <th></th>\n",
       "      <th>Timestamp</th>\n",
       "      <th>Name:</th>\n",
       "      <th>Age group:</th>\n",
       "      <th>Gender:</th>\n",
       "      <th>Religion:</th>\n",
       "      <th>Caste:</th>\n",
       "      <th>Languages that you often speak and have knowledge of (can be more than 2):</th>\n",
       "      <th>What is your stream / field of interest</th>\n",
       "    </tr>\n",
       "  </thead>\n",
       "  <tbody>\n",
       "    <tr>\n",
       "      <th>0</th>\n",
       "      <td>5/22/2021 19:25:50</td>\n",
       "      <td>Aakanksha pandey</td>\n",
       "      <td>21-23</td>\n",
       "      <td>Female</td>\n",
       "      <td>Hinduism</td>\n",
       "      <td>General</td>\n",
       "      <td>Hindi, English</td>\n",
       "      <td>Marketing, IT</td>\n",
       "    </tr>\n",
       "    <tr>\n",
       "      <th>1</th>\n",
       "      <td>5/22/2021 19:49:02</td>\n",
       "      <td>Aashish Devkota</td>\n",
       "      <td>21-23</td>\n",
       "      <td>Male</td>\n",
       "      <td>Hinduism</td>\n",
       "      <td>General</td>\n",
       "      <td>Hindi, English</td>\n",
       "      <td>Finance, Marketing</td>\n",
       "    </tr>\n",
       "    <tr>\n",
       "      <th>2</th>\n",
       "      <td>5/22/2021 19:53:25</td>\n",
       "      <td>Abhay mehta</td>\n",
       "      <td>19-21</td>\n",
       "      <td>Male</td>\n",
       "      <td>Hinduism</td>\n",
       "      <td>General</td>\n",
       "      <td>Hindi, English</td>\n",
       "      <td>Finance, Marketing</td>\n",
       "    </tr>\n",
       "    <tr>\n",
       "      <th>3</th>\n",
       "      <td>5/22/2021 13:27:25</td>\n",
       "      <td>Abhishek jain</td>\n",
       "      <td>21-23</td>\n",
       "      <td>Male</td>\n",
       "      <td>Jainism</td>\n",
       "      <td>General</td>\n",
       "      <td>Hindi, English</td>\n",
       "      <td>Marketing, Business Analytics</td>\n",
       "    </tr>\n",
       "    <tr>\n",
       "      <th>4</th>\n",
       "      <td>5/23/2021 14:29:43</td>\n",
       "      <td>Abhishek Swamy</td>\n",
       "      <td>21-23</td>\n",
       "      <td>Male</td>\n",
       "      <td>Hinduism</td>\n",
       "      <td>General</td>\n",
       "      <td>Hindi, English, Tamil</td>\n",
       "      <td>HR, Business Analytics, IT</td>\n",
       "    </tr>\n",
       "  </tbody>\n",
       "</table>\n",
       "</div>"
      ],
      "text/plain": [
       "            Timestamp              Name: Age group: Gender: Religion:  \\\n",
       "0  5/22/2021 19:25:50  Aakanksha pandey       21-23  Female  Hinduism   \n",
       "1  5/22/2021 19:49:02   Aashish Devkota       21-23    Male  Hinduism   \n",
       "2  5/22/2021 19:53:25        Abhay mehta      19-21    Male  Hinduism   \n",
       "3  5/22/2021 13:27:25      Abhishek jain      21-23    Male   Jainism   \n",
       "4  5/23/2021 14:29:43     Abhishek Swamy      21-23    Male  Hinduism   \n",
       "\n",
       "    Caste:  \\\n",
       "0  General   \n",
       "1  General   \n",
       "2  General   \n",
       "3  General   \n",
       "4  General   \n",
       "\n",
       "  Languages that you often speak and have knowledge of (can be more than 2):  \\\n",
       "0                                     Hindi, English                           \n",
       "1                                     Hindi, English                           \n",
       "2                                     Hindi, English                           \n",
       "3                                     Hindi, English                           \n",
       "4                              Hindi, English, Tamil                           \n",
       "\n",
       "  What is your stream / field of interest  \n",
       "0                           Marketing, IT  \n",
       "1                      Finance, Marketing  \n",
       "2                      Finance, Marketing  \n",
       "3           Marketing, Business Analytics  \n",
       "4              HR, Business Analytics, IT  "
      ]
     },
     "execution_count": 27,
     "metadata": {},
     "output_type": "execute_result"
    }
   ],
   "source": [
    "diversity.head()"
   ]
  },
  {
   "cell_type": "markdown",
   "id": "d51e19a1",
   "metadata": {},
   "source": [
    "# Using the tail function."
   ]
  },
  {
   "cell_type": "code",
   "execution_count": 28,
   "id": "b08dc52d",
   "metadata": {},
   "outputs": [
    {
     "data": {
      "text/html": [
       "<div>\n",
       "<style scoped>\n",
       "    .dataframe tbody tr th:only-of-type {\n",
       "        vertical-align: middle;\n",
       "    }\n",
       "\n",
       "    .dataframe tbody tr th {\n",
       "        vertical-align: top;\n",
       "    }\n",
       "\n",
       "    .dataframe thead th {\n",
       "        text-align: right;\n",
       "    }\n",
       "</style>\n",
       "<table border=\"1\" class=\"dataframe\">\n",
       "  <thead>\n",
       "    <tr style=\"text-align: right;\">\n",
       "      <th></th>\n",
       "      <th>Timestamp</th>\n",
       "      <th>Name:</th>\n",
       "      <th>Age group:</th>\n",
       "      <th>Gender:</th>\n",
       "      <th>Religion:</th>\n",
       "      <th>Caste:</th>\n",
       "      <th>Languages that you often speak and have knowledge of (can be more than 2):</th>\n",
       "      <th>What is your stream / field of interest</th>\n",
       "    </tr>\n",
       "  </thead>\n",
       "  <tbody>\n",
       "    <tr>\n",
       "      <th>94</th>\n",
       "      <td>5/22/2021 14:06:37</td>\n",
       "      <td>Urvashi Shrivastava</td>\n",
       "      <td>23-25</td>\n",
       "      <td>Female</td>\n",
       "      <td>Hinduism</td>\n",
       "      <td>General</td>\n",
       "      <td>Hindi, English</td>\n",
       "      <td>Marketing, HR</td>\n",
       "    </tr>\n",
       "    <tr>\n",
       "      <th>95</th>\n",
       "      <td>5/22/2021 20:34:55</td>\n",
       "      <td>Vaishnavi Tantak</td>\n",
       "      <td>21-23</td>\n",
       "      <td>Female</td>\n",
       "      <td>Hinduism</td>\n",
       "      <td>OBC</td>\n",
       "      <td>Hindi, English, Marathi</td>\n",
       "      <td>Marketing, HR</td>\n",
       "    </tr>\n",
       "    <tr>\n",
       "      <th>96</th>\n",
       "      <td>5/22/2021 19:19:31</td>\n",
       "      <td>Yash Awasthi</td>\n",
       "      <td>23-25</td>\n",
       "      <td>Male</td>\n",
       "      <td>Hinduism</td>\n",
       "      <td>General</td>\n",
       "      <td>Hindi, English</td>\n",
       "      <td>Marketing, Business Analytics</td>\n",
       "    </tr>\n",
       "    <tr>\n",
       "      <th>97</th>\n",
       "      <td>5/22/2021 22:47:36</td>\n",
       "      <td>Yashika Jain</td>\n",
       "      <td>19-21</td>\n",
       "      <td>Female</td>\n",
       "      <td>Hinduism</td>\n",
       "      <td>General</td>\n",
       "      <td>Hindi, English</td>\n",
       "      <td>Marketing, HR</td>\n",
       "    </tr>\n",
       "    <tr>\n",
       "      <th>98</th>\n",
       "      <td>5/22/2021 20:16:34</td>\n",
       "      <td>Yogita Patil</td>\n",
       "      <td>Above 25</td>\n",
       "      <td>Female</td>\n",
       "      <td>Hinduism</td>\n",
       "      <td>OBC</td>\n",
       "      <td>Hindi, English, Marathi</td>\n",
       "      <td>Finance, Marketing</td>\n",
       "    </tr>\n",
       "  </tbody>\n",
       "</table>\n",
       "</div>"
      ],
      "text/plain": [
       "             Timestamp                Name: Age group: Gender: Religion:  \\\n",
       "94  5/22/2021 14:06:37  Urvashi Shrivastava      23-25  Female  Hinduism   \n",
       "95  5/22/2021 20:34:55    Vaishnavi Tantak       21-23  Female  Hinduism   \n",
       "96  5/22/2021 19:19:31         Yash Awasthi      23-25    Male  Hinduism   \n",
       "97  5/22/2021 22:47:36         Yashika Jain      19-21  Female  Hinduism   \n",
       "98  5/22/2021 20:16:34         Yogita Patil   Above 25  Female  Hinduism   \n",
       "\n",
       "     Caste:  \\\n",
       "94  General   \n",
       "95      OBC   \n",
       "96  General   \n",
       "97  General   \n",
       "98      OBC   \n",
       "\n",
       "   Languages that you often speak and have knowledge of (can be more than 2):  \\\n",
       "94                                     Hindi, English                           \n",
       "95                            Hindi, English, Marathi                           \n",
       "96                                     Hindi, English                           \n",
       "97                                     Hindi, English                           \n",
       "98                            Hindi, English, Marathi                           \n",
       "\n",
       "   What is your stream / field of interest  \n",
       "94                           Marketing, HR  \n",
       "95                           Marketing, HR  \n",
       "96           Marketing, Business Analytics  \n",
       "97                           Marketing, HR  \n",
       "98                      Finance, Marketing  "
      ]
     },
     "execution_count": 28,
     "metadata": {},
     "output_type": "execute_result"
    }
   ],
   "source": [
    "diversity.tail()"
   ]
  },
  {
   "cell_type": "markdown",
   "id": "2b3555cc",
   "metadata": {},
   "source": [
    "# To know the column names of the data set"
   ]
  },
  {
   "cell_type": "code",
   "execution_count": 29,
   "id": "35db891a",
   "metadata": {},
   "outputs": [
    {
     "data": {
      "text/plain": [
       "Index(['Timestamp', 'Name:', 'Age group:', 'Gender:', 'Religion:', 'Caste:',\n",
       "       'Languages that you often speak and have knowledge of (can be more than 2):',\n",
       "       'What is your stream / field of interest'],\n",
       "      dtype='object')"
      ]
     },
     "execution_count": 29,
     "metadata": {},
     "output_type": "execute_result"
    }
   ],
   "source": [
    "diversity.columns"
   ]
  },
  {
   "cell_type": "markdown",
   "id": "6b597bf5",
   "metadata": {},
   "source": [
    "# Describing the heads of data set"
   ]
  },
  {
   "cell_type": "code",
   "execution_count": 30,
   "id": "599fce6b",
   "metadata": {},
   "outputs": [
    {
     "data": {
      "text/html": [
       "<div>\n",
       "<style scoped>\n",
       "    .dataframe tbody tr th:only-of-type {\n",
       "        vertical-align: middle;\n",
       "    }\n",
       "\n",
       "    .dataframe tbody tr th {\n",
       "        vertical-align: top;\n",
       "    }\n",
       "\n",
       "    .dataframe thead th {\n",
       "        text-align: right;\n",
       "    }\n",
       "</style>\n",
       "<table border=\"1\" class=\"dataframe\">\n",
       "  <thead>\n",
       "    <tr style=\"text-align: right;\">\n",
       "      <th></th>\n",
       "      <th>Timestamp</th>\n",
       "      <th>Name:</th>\n",
       "      <th>Age group:</th>\n",
       "      <th>Gender:</th>\n",
       "      <th>Religion:</th>\n",
       "      <th>Caste:</th>\n",
       "      <th>Languages that you often speak and have knowledge of (can be more than 2):</th>\n",
       "      <th>What is your stream / field of interest</th>\n",
       "    </tr>\n",
       "  </thead>\n",
       "  <tbody>\n",
       "    <tr>\n",
       "      <th>count</th>\n",
       "      <td>99</td>\n",
       "      <td>99</td>\n",
       "      <td>99</td>\n",
       "      <td>99</td>\n",
       "      <td>99</td>\n",
       "      <td>99</td>\n",
       "      <td>99</td>\n",
       "      <td>99</td>\n",
       "    </tr>\n",
       "    <tr>\n",
       "      <th>unique</th>\n",
       "      <td>99</td>\n",
       "      <td>96</td>\n",
       "      <td>4</td>\n",
       "      <td>2</td>\n",
       "      <td>4</td>\n",
       "      <td>4</td>\n",
       "      <td>8</td>\n",
       "      <td>18</td>\n",
       "    </tr>\n",
       "    <tr>\n",
       "      <th>top</th>\n",
       "      <td>5/22/2021 21:19:19</td>\n",
       "      <td>Rashmi Tiwari</td>\n",
       "      <td>21-23</td>\n",
       "      <td>Female</td>\n",
       "      <td>Hinduism</td>\n",
       "      <td>General</td>\n",
       "      <td>Hindi, English</td>\n",
       "      <td>Finance, Marketing</td>\n",
       "    </tr>\n",
       "    <tr>\n",
       "      <th>freq</th>\n",
       "      <td>1</td>\n",
       "      <td>2</td>\n",
       "      <td>54</td>\n",
       "      <td>63</td>\n",
       "      <td>91</td>\n",
       "      <td>63</td>\n",
       "      <td>79</td>\n",
       "      <td>31</td>\n",
       "    </tr>\n",
       "  </tbody>\n",
       "</table>\n",
       "</div>"
      ],
      "text/plain": [
       "                 Timestamp           Name: Age group: Gender: Religion:  \\\n",
       "count                   99              99         99      99        99   \n",
       "unique                  99              96          4       2         4   \n",
       "top     5/22/2021 21:19:19  Rashmi Tiwari       21-23  Female  Hinduism   \n",
       "freq                     1               2         54      63        91   \n",
       "\n",
       "         Caste:  \\\n",
       "count        99   \n",
       "unique        4   \n",
       "top     General   \n",
       "freq         63   \n",
       "\n",
       "       Languages that you often speak and have knowledge of (can be more than 2):  \\\n",
       "count                                                  99                           \n",
       "unique                                                  8                           \n",
       "top                                        Hindi, English                           \n",
       "freq                                                   79                           \n",
       "\n",
       "       What is your stream / field of interest  \n",
       "count                                       99  \n",
       "unique                                      18  \n",
       "top                         Finance, Marketing  \n",
       "freq                                        31  "
      ]
     },
     "execution_count": 30,
     "metadata": {},
     "output_type": "execute_result"
    }
   ],
   "source": [
    "diversity.describe()"
   ]
  },
  {
   "cell_type": "markdown",
   "id": "3ecbeb84",
   "metadata": {},
   "source": [
    "# Let's see how many number of rows and columns are there in the data set"
   ]
  },
  {
   "cell_type": "code",
   "execution_count": 31,
   "id": "e7f6ae7e",
   "metadata": {},
   "outputs": [
    {
     "data": {
      "text/plain": [
       "(99, 8)"
      ]
     },
     "execution_count": 31,
     "metadata": {},
     "output_type": "execute_result"
    }
   ],
   "source": [
    "diversity.shape"
   ]
  },
  {
   "cell_type": "markdown",
   "id": "5fbc611f",
   "metadata": {},
   "source": [
    "# Let's see if there is any missing value or null value in our data set"
   ]
  },
  {
   "cell_type": "code",
   "execution_count": 33,
   "id": "6d27cf08",
   "metadata": {},
   "outputs": [],
   "source": [
    "# The output is false in all the columns which indicates that there is no null value in the data set."
   ]
  },
  {
   "cell_type": "code",
   "execution_count": 32,
   "id": "5d7622a4",
   "metadata": {},
   "outputs": [
    {
     "data": {
      "text/html": [
       "<div>\n",
       "<style scoped>\n",
       "    .dataframe tbody tr th:only-of-type {\n",
       "        vertical-align: middle;\n",
       "    }\n",
       "\n",
       "    .dataframe tbody tr th {\n",
       "        vertical-align: top;\n",
       "    }\n",
       "\n",
       "    .dataframe thead th {\n",
       "        text-align: right;\n",
       "    }\n",
       "</style>\n",
       "<table border=\"1\" class=\"dataframe\">\n",
       "  <thead>\n",
       "    <tr style=\"text-align: right;\">\n",
       "      <th></th>\n",
       "      <th>Timestamp</th>\n",
       "      <th>Name:</th>\n",
       "      <th>Age group:</th>\n",
       "      <th>Gender:</th>\n",
       "      <th>Religion:</th>\n",
       "      <th>Caste:</th>\n",
       "      <th>Languages that you often speak and have knowledge of (can be more than 2):</th>\n",
       "      <th>What is your stream / field of interest</th>\n",
       "    </tr>\n",
       "  </thead>\n",
       "  <tbody>\n",
       "    <tr>\n",
       "      <th>0</th>\n",
       "      <td>False</td>\n",
       "      <td>False</td>\n",
       "      <td>False</td>\n",
       "      <td>False</td>\n",
       "      <td>False</td>\n",
       "      <td>False</td>\n",
       "      <td>False</td>\n",
       "      <td>False</td>\n",
       "    </tr>\n",
       "    <tr>\n",
       "      <th>1</th>\n",
       "      <td>False</td>\n",
       "      <td>False</td>\n",
       "      <td>False</td>\n",
       "      <td>False</td>\n",
       "      <td>False</td>\n",
       "      <td>False</td>\n",
       "      <td>False</td>\n",
       "      <td>False</td>\n",
       "    </tr>\n",
       "    <tr>\n",
       "      <th>2</th>\n",
       "      <td>False</td>\n",
       "      <td>False</td>\n",
       "      <td>False</td>\n",
       "      <td>False</td>\n",
       "      <td>False</td>\n",
       "      <td>False</td>\n",
       "      <td>False</td>\n",
       "      <td>False</td>\n",
       "    </tr>\n",
       "    <tr>\n",
       "      <th>3</th>\n",
       "      <td>False</td>\n",
       "      <td>False</td>\n",
       "      <td>False</td>\n",
       "      <td>False</td>\n",
       "      <td>False</td>\n",
       "      <td>False</td>\n",
       "      <td>False</td>\n",
       "      <td>False</td>\n",
       "    </tr>\n",
       "    <tr>\n",
       "      <th>4</th>\n",
       "      <td>False</td>\n",
       "      <td>False</td>\n",
       "      <td>False</td>\n",
       "      <td>False</td>\n",
       "      <td>False</td>\n",
       "      <td>False</td>\n",
       "      <td>False</td>\n",
       "      <td>False</td>\n",
       "    </tr>\n",
       "    <tr>\n",
       "      <th>...</th>\n",
       "      <td>...</td>\n",
       "      <td>...</td>\n",
       "      <td>...</td>\n",
       "      <td>...</td>\n",
       "      <td>...</td>\n",
       "      <td>...</td>\n",
       "      <td>...</td>\n",
       "      <td>...</td>\n",
       "    </tr>\n",
       "    <tr>\n",
       "      <th>94</th>\n",
       "      <td>False</td>\n",
       "      <td>False</td>\n",
       "      <td>False</td>\n",
       "      <td>False</td>\n",
       "      <td>False</td>\n",
       "      <td>False</td>\n",
       "      <td>False</td>\n",
       "      <td>False</td>\n",
       "    </tr>\n",
       "    <tr>\n",
       "      <th>95</th>\n",
       "      <td>False</td>\n",
       "      <td>False</td>\n",
       "      <td>False</td>\n",
       "      <td>False</td>\n",
       "      <td>False</td>\n",
       "      <td>False</td>\n",
       "      <td>False</td>\n",
       "      <td>False</td>\n",
       "    </tr>\n",
       "    <tr>\n",
       "      <th>96</th>\n",
       "      <td>False</td>\n",
       "      <td>False</td>\n",
       "      <td>False</td>\n",
       "      <td>False</td>\n",
       "      <td>False</td>\n",
       "      <td>False</td>\n",
       "      <td>False</td>\n",
       "      <td>False</td>\n",
       "    </tr>\n",
       "    <tr>\n",
       "      <th>97</th>\n",
       "      <td>False</td>\n",
       "      <td>False</td>\n",
       "      <td>False</td>\n",
       "      <td>False</td>\n",
       "      <td>False</td>\n",
       "      <td>False</td>\n",
       "      <td>False</td>\n",
       "      <td>False</td>\n",
       "    </tr>\n",
       "    <tr>\n",
       "      <th>98</th>\n",
       "      <td>False</td>\n",
       "      <td>False</td>\n",
       "      <td>False</td>\n",
       "      <td>False</td>\n",
       "      <td>False</td>\n",
       "      <td>False</td>\n",
       "      <td>False</td>\n",
       "      <td>False</td>\n",
       "    </tr>\n",
       "  </tbody>\n",
       "</table>\n",
       "<p>99 rows × 8 columns</p>\n",
       "</div>"
      ],
      "text/plain": [
       "    Timestamp  Name:  Age group:  Gender:  Religion:  Caste:  \\\n",
       "0       False  False       False    False      False   False   \n",
       "1       False  False       False    False      False   False   \n",
       "2       False  False       False    False      False   False   \n",
       "3       False  False       False    False      False   False   \n",
       "4       False  False       False    False      False   False   \n",
       "..        ...    ...         ...      ...        ...     ...   \n",
       "94      False  False       False    False      False   False   \n",
       "95      False  False       False    False      False   False   \n",
       "96      False  False       False    False      False   False   \n",
       "97      False  False       False    False      False   False   \n",
       "98      False  False       False    False      False   False   \n",
       "\n",
       "    Languages that you often speak and have knowledge of (can be more than 2):  \\\n",
       "0                                               False                            \n",
       "1                                               False                            \n",
       "2                                               False                            \n",
       "3                                               False                            \n",
       "4                                               False                            \n",
       "..                                                ...                            \n",
       "94                                              False                            \n",
       "95                                              False                            \n",
       "96                                              False                            \n",
       "97                                              False                            \n",
       "98                                              False                            \n",
       "\n",
       "    What is your stream / field of interest  \n",
       "0                                     False  \n",
       "1                                     False  \n",
       "2                                     False  \n",
       "3                                     False  \n",
       "4                                     False  \n",
       "..                                      ...  \n",
       "94                                    False  \n",
       "95                                    False  \n",
       "96                                    False  \n",
       "97                                    False  \n",
       "98                                    False  \n",
       "\n",
       "[99 rows x 8 columns]"
      ]
     },
     "execution_count": 32,
     "metadata": {},
     "output_type": "execute_result"
    }
   ],
   "source": [
    "diversity.isna()"
   ]
  },
  {
   "cell_type": "markdown",
   "id": "507db8f7",
   "metadata": {},
   "source": [
    "# Slicing data using String Method"
   ]
  },
  {
   "cell_type": "code",
   "execution_count": 36,
   "id": "53a44656",
   "metadata": {},
   "outputs": [
    {
     "data": {
      "text/plain": [
       "0                    [Marketing,  IT]\n",
       "1               [Finance,  Marketing]\n",
       "2               [Finance,  Marketing]\n",
       "3    [Marketing,  Business Analytics]\n",
       "4      [HR,  Business Analytics,  IT]\n",
       "Name: What is your stream / field of interest, dtype: object"
      ]
     },
     "execution_count": 36,
     "metadata": {},
     "output_type": "execute_result"
    }
   ],
   "source": [
    "diversity['What is your stream / field of interest'].str.split(',').head()"
   ]
  },
  {
   "cell_type": "markdown",
   "id": "03498735",
   "metadata": {},
   "source": [
    "# Slicing and Extracting data using Apply method"
   ]
  },
  {
   "cell_type": "code",
   "execution_count": 38,
   "id": "1927077d",
   "metadata": {},
   "outputs": [],
   "source": [
    "# If you look in the dataset you will find that there are more than one value present in the coloumn of -\n",
    "#'What is your stream / field of interest', therefore to extract a particular value we will slice the whole string \n",
    "# with the help of Apply method."
   ]
  },
  {
   "cell_type": "code",
   "execution_count": 37,
   "id": "fa0e2a73",
   "metadata": {},
   "outputs": [
    {
     "data": {
      "text/plain": [
       "0    Marketing\n",
       "1      Finance\n",
       "2      Finance\n",
       "3    Marketing\n",
       "4           HR\n",
       "Name: What is your stream / field of interest, dtype: object"
      ]
     },
     "execution_count": 37,
     "metadata": {},
     "output_type": "execute_result"
    }
   ],
   "source": [
    "def get_element(my_list,position):\n",
    "    return my_list[position]\n",
    "diversity['What is your stream / field of interest'].str.split(',').apply(get_element,position = 0).head()"
   ]
  },
  {
   "cell_type": "markdown",
   "id": "a23a431b",
   "metadata": {},
   "source": [
    "# We can also Extract values using Lamda method"
   ]
  },
  {
   "cell_type": "code",
   "execution_count": 39,
   "id": "898e082e",
   "metadata": {},
   "outputs": [
    {
     "data": {
      "text/plain": [
       "0    Marketing\n",
       "1      Finance\n",
       "2      Finance\n",
       "3    Marketing\n",
       "4           HR\n",
       "Name: What is your stream / field of interest, dtype: object"
      ]
     },
     "execution_count": 39,
     "metadata": {},
     "output_type": "execute_result"
    }
   ],
   "source": [
    "diversity['What is your stream / field of interest'].str.split(',').apply(lambda x:x[0]).head()"
   ]
  },
  {
   "cell_type": "markdown",
   "id": "557414ed",
   "metadata": {},
   "source": [
    "# Counting the Extracted data (for position 1)"
   ]
  },
  {
   "cell_type": "code",
   "execution_count": null,
   "id": "7e0e8494",
   "metadata": {},
   "outputs": [],
   "source": [
    "# Using 'for' loop to count the no. of positions of 'Marketing' in the column 'What is your stream / field of interest', by\n",
    "# slicing and extracting the data with the help of Lambda function."
   ]
  },
  {
   "cell_type": "code",
   "execution_count": 40,
   "id": "7fe2cea3",
   "metadata": {},
   "outputs": [
    {
     "data": {
      "text/plain": [
       "31"
      ]
     },
     "execution_count": 40,
     "metadata": {},
     "output_type": "execute_result"
    }
   ],
   "source": [
    "d = diversity['What is your stream / field of interest'].str.split(',').apply(lambda x:x[0])\n",
    "count = 0\n",
    "for line in d:\n",
    "    if line == 'Marketing':\n",
    "        count = count + 1\n",
    "count"
   ]
  },
  {
   "cell_type": "code",
   "execution_count": null,
   "id": "f21fd056",
   "metadata": {},
   "outputs": [],
   "source": []
  },
  {
   "cell_type": "code",
   "execution_count": null,
   "id": "cb925d2b",
   "metadata": {},
   "outputs": [],
   "source": []
  }
 ],
 "metadata": {
  "kernelspec": {
   "display_name": "Python 3",
   "language": "python",
   "name": "python3"
  },
  "language_info": {
   "codemirror_mode": {
    "name": "ipython",
    "version": 3
   },
   "file_extension": ".py",
   "mimetype": "text/x-python",
   "name": "python",
   "nbconvert_exporter": "python",
   "pygments_lexer": "ipython3",
   "version": "3.8.8"
  }
 },
 "nbformat": 4,
 "nbformat_minor": 5
}
